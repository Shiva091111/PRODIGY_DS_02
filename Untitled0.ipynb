{
  "nbformat": 4,
  "nbformat_minor": 0,
  "metadata": {
    "colab": {
      "provenance": [],
      "authorship_tag": "ABX9TyOu8ReBZzp4nzdcE/YFo0Ax",
      "include_colab_link": true
    },
    "kernelspec": {
      "name": "python3",
      "display_name": "Python 3"
    },
    "language_info": {
      "name": "python"
    }
  },
  "cells": [
    {
      "cell_type": "markdown",
      "metadata": {
        "id": "view-in-github",
        "colab_type": "text"
      },
      "source": [
        "<a href=\"https://colab.research.google.com/github/Shiva091111/PRODIGY_DS_02/blob/main/Untitled0.ipynb\" target=\"_parent\"><img src=\"https://colab.research.google.com/assets/colab-badge.svg\" alt=\"Open In Colab\"/></a>"
      ]
    },
    {
      "cell_type": "code",
      "execution_count": null,
      "metadata": {
        "id": "zbQCQbSGqh8x"
      },
      "outputs": [],
      "source": [
        "\n",
        "#Open In Colab\n",
        "\n",
        "import pandas as pd\n",
        "import seaborn as sns\n",
        "import matplotlib.pyplot as plt\n",
        "\n",
        "df=pd.read_csv(\"train.csv\")\n",
        "\n",
        "#cleaning\n",
        "\n",
        "df['Age'].fillna(df['Age'].median(), inplace=True)\n",
        "df['Embarked'].fillna(df['Embarked'].mode()[0], inplace=True)\n",
        "df['Fare'].fillna(df['Fare'].median(), inplace=True)\n",
        "\n",
        "#EXploratory data analysis\n",
        "\n",
        "sns.countplot(x='Pclass', data=df)\n",
        "plt.title('Number of Passengers in Each Class')\n",
        "plt.show()\n",
        "\n",
        "\n",
        "\n",
        "# Survival Rate by Class\n",
        "\n",
        "sns.barplot(x='Pclass', y='Survived', data=df)\n",
        "plt.title('Survival Rate by Passenger Class')\n",
        "plt.show()\n",
        "\n",
        "\n",
        "\n",
        "\n",
        "#Distribution of Age\n",
        "\n",
        "plt.figure(figsize=(10, 6))\n",
        "sns.histplot(df['Age'], bins=30, kde=True)\n",
        "plt.title('Distribution of Age')\n",
        "plt.show()\n",
        "\n",
        "\n",
        "\n",
        "\n",
        "#survival rate by gender\n",
        "\n",
        "sns.barplot(x='Sex', y='Survived', data=df)\n",
        "plt.title('Survival Rate by Gender')\n",
        "plt.show()\n",
        "\n",
        "\n",
        "\n",
        "\n"
      ]
    }
  ]
}